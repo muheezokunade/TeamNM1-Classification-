{
 "cells": [
  {
   "cell_type": "markdown",
   "id": "140fafe4",
   "metadata": {},
   "source": [
    "<a id=\"cont\"></a>\n",
    "\n",
    "## Table of Contents\n",
    "<a href=#one2>1. Meet the Collaborators</a>\n",
    "\n",
    "<a href=#one1>2. Introduction</a>\n",
    "\n",
    "<a href=#onei>3. Problem Statement</a>\n",
    "\n",
    "\n",
    "<a href=#one>4. Importing Packages</a>\n",
    "\n",
    "<a href=#two>5. Loading Data</a>\n",
    "\n",
    "<a href=#three>6. Exploratory Data Analysis (EDA)</a>\n",
    "\n",
    "\n",
    "<a href=#four>7. Data Engineering</a>\n",
    "\n",
    "<a href=#five>8. Modeling</a>\n",
    "\n",
    "<a href=#six>9. Model Performance</a>\n",
    "\n",
    "<a href=#seven>10. Model Explanations</a>\n",
    "\n",
    "<a href=#threefiv>11. Conclusion</a>\n",
    "\n",
    "<a href=#threefi>12. References</a>\n",
    "\n",
    "<a href=#threefi>13. Kaggle Submission</a>\n",
    "\n",
    "<a href=#threefi>14. Saving Models</a>"
   ]
  },
  {
   "cell_type": "markdown",
   "id": "d50a957b",
   "metadata": {},
   "source": [
    "<a id=\"one2\"></a>\n",
    "\n",
    "## 1. Meet the Collaborators\n",
    "\n",
    "\n",
    "<a class=\"anchor\" id=\"1.1\"></a>\n",
    "<a href=#cont>Back to Table of Contents</a>"
   ]
  },
  {
   "cell_type": "code",
   "execution_count": null,
   "id": "0862f868",
   "metadata": {},
   "outputs": [],
   "source": []
  },
  {
   "cell_type": "markdown",
   "id": "00858e56",
   "metadata": {},
   "source": [
    "<a id=\"one1\"></a>\n",
    "## 2. Introduction\n",
    "\n",
    "<a class=\"anchor\" id=\"1.1\"></a>\n",
    "<a href=#cont>Back to Table of Contents</a>"
   ]
  },
  {
   "cell_type": "code",
   "execution_count": null,
   "id": "228a158f",
   "metadata": {},
   "outputs": [],
   "source": []
  },
  {
   "cell_type": "markdown",
   "id": "1aec196c",
   "metadata": {},
   "source": [
    "<a id=\"onei\"></a>\n",
    "## 3.  Problem Statement: Twitter Sentiment Classification\n",
    "\n",
    "<a class=\"anchor\" id=\"1.1\"></a>\n",
    "<a href=#cont>Back to Table of Contents</a>"
   ]
  },
  {
   "cell_type": "code",
   "execution_count": null,
   "id": "94d8b5c2",
   "metadata": {},
   "outputs": [],
   "source": []
  },
  {
   "cell_type": "markdown",
   "id": "50801063",
   "metadata": {},
   "source": [
    " <a id=\"one\"></a>\n",
    "## 4. Importing Packages\n",
    "<a href=#cont>Back to Table of Contents</a>"
   ]
  },
  {
   "cell_type": "code",
   "execution_count": 1,
   "id": "0fcea5e5",
   "metadata": {},
   "outputs": [],
   "source": [
    "# utilities\n",
    "import re\n",
    "import numpy as np\n",
    "import pandas as pd\n",
    "import string\n",
    "import urllib\n",
    "# plotting\n",
    "import seaborn as sns\n",
    "from wordcloud import WordCloud\n",
    "import matplotlib.pyplot as plt\n",
    "# nltk\n",
    "from nltk.stem import WordNetLemmatizer\n",
    "\n",
    "# sklearn\n",
    "from sklearn.svm import LinearSVC\n",
    "from sklearn.naive_bayes import BernoulliNB\n",
    "from sklearn.linear_model import LogisticRegression\n",
    "from sklearn.model_selection import train_test_split\n",
    "from sklearn.feature_extraction.text import TfidfVectorizer\n",
    "from sklearn.metrics import confusion_matrix, classification_report"
   ]
  },
  {
   "cell_type": "markdown",
   "id": "6dfd391c",
   "metadata": {},
   "source": [
    "<a id=\"two\"></a>\n",
    "## 5. Loading the Data\n",
    "<a class=\"anchor\" id=\"1.1\"></a>\n",
    "<a href=#cont>Back to Table of Contents</a>"
   ]
  },
  {
   "cell_type": "code",
   "execution_count": 3,
   "id": "840948d6",
   "metadata": {},
   "outputs": [],
   "source": [
    "# Load the train and test data\n",
    "\n",
    "df_train = pd.read_csv('train.csv')\n",
    "df_test= pd.read_csv('test_with_no_labels.csv')"
   ]
  },
  {
   "cell_type": "code",
   "execution_count": 4,
   "id": "788da2c4",
   "metadata": {},
   "outputs": [
    {
     "data": {
      "text/html": [
       "<div>\n",
       "<style scoped>\n",
       "    .dataframe tbody tr th:only-of-type {\n",
       "        vertical-align: middle;\n",
       "    }\n",
       "\n",
       "    .dataframe tbody tr th {\n",
       "        vertical-align: top;\n",
       "    }\n",
       "\n",
       "    .dataframe thead th {\n",
       "        text-align: right;\n",
       "    }\n",
       "</style>\n",
       "<table border=\"1\" class=\"dataframe\">\n",
       "  <thead>\n",
       "    <tr style=\"text-align: right;\">\n",
       "      <th></th>\n",
       "      <th>sentiment</th>\n",
       "      <th>message</th>\n",
       "      <th>tweetid</th>\n",
       "    </tr>\n",
       "  </thead>\n",
       "  <tbody>\n",
       "    <tr>\n",
       "      <th>0</th>\n",
       "      <td>1</td>\n",
       "      <td>PolySciMajor EPA chief doesn't think carbon di...</td>\n",
       "      <td>625221</td>\n",
       "    </tr>\n",
       "    <tr>\n",
       "      <th>1</th>\n",
       "      <td>1</td>\n",
       "      <td>It's not like we lack evidence of anthropogeni...</td>\n",
       "      <td>126103</td>\n",
       "    </tr>\n",
       "    <tr>\n",
       "      <th>2</th>\n",
       "      <td>2</td>\n",
       "      <td>RT @RawStory: Researchers say we have three ye...</td>\n",
       "      <td>698562</td>\n",
       "    </tr>\n",
       "    <tr>\n",
       "      <th>3</th>\n",
       "      <td>1</td>\n",
       "      <td>#TodayinMaker# WIRED : 2016 was a pivotal year...</td>\n",
       "      <td>573736</td>\n",
       "    </tr>\n",
       "    <tr>\n",
       "      <th>4</th>\n",
       "      <td>1</td>\n",
       "      <td>RT @SoyNovioDeTodas: It's 2016, and a racist, ...</td>\n",
       "      <td>466954</td>\n",
       "    </tr>\n",
       "  </tbody>\n",
       "</table>\n",
       "</div>"
      ],
      "text/plain": [
       "   sentiment                                            message  tweetid\n",
       "0          1  PolySciMajor EPA chief doesn't think carbon di...   625221\n",
       "1          1  It's not like we lack evidence of anthropogeni...   126103\n",
       "2          2  RT @RawStory: Researchers say we have three ye...   698562\n",
       "3          1  #TodayinMaker# WIRED : 2016 was a pivotal year...   573736\n",
       "4          1  RT @SoyNovioDeTodas: It's 2016, and a racist, ...   466954"
      ]
     },
     "execution_count": 4,
     "metadata": {},
     "output_type": "execute_result"
    }
   ],
   "source": [
    "df_train.head()"
   ]
  },
  {
   "cell_type": "code",
   "execution_count": null,
   "id": "85fb58ca",
   "metadata": {},
   "outputs": [],
   "source": []
  },
  {
   "cell_type": "markdown",
   "id": "422732ed",
   "metadata": {},
   "source": [
    "<a id=\"three\"></a>\n",
    "## 6. Exploratory Data Analysis (EDA)\n",
    "<a class=\"anchor\" id=\"1.1\"></a>\n",
    "<a href=#cont>Back to Table of Contents</a>"
   ]
  },
  {
   "cell_type": "code",
   "execution_count": null,
   "id": "29f7de72",
   "metadata": {},
   "outputs": [],
   "source": [
    "df_train.columns"
   ]
  },
  {
   "cell_type": "code",
   "execution_count": null,
   "id": "a28da25b",
   "metadata": {},
   "outputs": [],
   "source": [
    "# print length of the data set\n",
    "print('length of data is', len(df_train))"
   ]
  },
  {
   "cell_type": "code",
   "execution_count": null,
   "id": "95ad6a64",
   "metadata": {},
   "outputs": [],
   "source": [
    "#Data information\n",
    "\n",
    "df_train.info()"
   ]
  },
  {
   "cell_type": "code",
   "execution_count": null,
   "id": "1d15194f",
   "metadata": {},
   "outputs": [],
   "source": [
    "np.sum(df_train.isnull().any(axis=1))"
   ]
  },
  {
   "cell_type": "code",
   "execution_count": null,
   "id": "ca11b442",
   "metadata": {},
   "outputs": [],
   "source": [
    "# Plotting the distribution for dataset.\n",
    "ax = df_train.groupby('sentiment').count().plot(kind='bar', title='Distribution of data',legend=True)\n",
    "ax.set_xticklabels(['News','Pro', 'Neutral', 'Anti'], rotation=0)\n",
    "# Storing data in lists.\n",
    "text, sentiment = list(df_train['message']), list(df_train['sentiment'])"
   ]
  },
  {
   "cell_type": "code",
   "execution_count": null,
   "id": "caf60bbc",
   "metadata": {},
   "outputs": [],
   "source": []
  },
  {
   "cell_type": "code",
   "execution_count": null,
   "id": "6ee41758",
   "metadata": {},
   "outputs": [],
   "source": []
  },
  {
   "cell_type": "code",
   "execution_count": null,
   "id": "b600bf15",
   "metadata": {},
   "outputs": [],
   "source": []
  },
  {
   "cell_type": "code",
   "execution_count": null,
   "id": "4987250b",
   "metadata": {},
   "outputs": [],
   "source": []
  },
  {
   "cell_type": "code",
   "execution_count": null,
   "id": "764a44a0",
   "metadata": {},
   "outputs": [],
   "source": []
  },
  {
   "cell_type": "code",
   "execution_count": null,
   "id": "dea9b3e5",
   "metadata": {},
   "outputs": [],
   "source": []
  },
  {
   "cell_type": "code",
   "execution_count": null,
   "id": "b16c9f73",
   "metadata": {},
   "outputs": [],
   "source": []
  },
  {
   "cell_type": "markdown",
   "id": "db63e956",
   "metadata": {},
   "source": [
    "<a id=\"four\"></a>\n",
    "## 7. Data Engineering\n",
    "<a class=\"anchor\" id=\"1.1\"></a>\n",
    "<a href=#cont>Back to Table of Contents</a>\n"
   ]
  },
  {
   "cell_type": "code",
   "execution_count": null,
   "id": "dc38b4c4",
   "metadata": {},
   "outputs": [],
   "source": []
  },
  {
   "cell_type": "markdown",
   "id": "f92ef56b",
   "metadata": {},
   "source": [
    "<a id=\"five\"></a>\n",
    "## 8. Modelling\n",
    "<a class=\"anchor\" id=\"1.1\"></a>\n",
    "<a href=#cont>Back to Table of Contents</a>"
   ]
  },
  {
   "cell_type": "code",
   "execution_count": null,
   "id": "a0362cd5",
   "metadata": {},
   "outputs": [],
   "source": []
  },
  {
   "cell_type": "markdown",
   "id": "ad587cbd",
   "metadata": {},
   "source": [
    "<a id=\"six\"></a>\n",
    "## 9. Model Performance\n",
    "<a class=\"anchor\" id=\"1.1\"></a>\n",
    "<a href=#cont>Back to Table of Contents</a>"
   ]
  },
  {
   "cell_type": "code",
   "execution_count": null,
   "id": "9638c475",
   "metadata": {},
   "outputs": [],
   "source": []
  },
  {
   "cell_type": "markdown",
   "id": "3c11a9b9",
   "metadata": {},
   "source": [
    "<a id=\"seven\"></a>\n",
    "## 10. Model Explanations\n",
    "<a class=\"anchor\" id=\"1.1\"></a>\n",
    "<a href=#cont>Back to Table of Contents</a>"
   ]
  },
  {
   "cell_type": "code",
   "execution_count": null,
   "id": "899074ae",
   "metadata": {},
   "outputs": [],
   "source": []
  },
  {
   "cell_type": "markdown",
   "id": "f94feaf9",
   "metadata": {},
   "source": [
    "<a id=\"threefiv\"></a>\n",
    "\n",
    "## 11. Conclusion\n",
    "<a class=\"anchor\" id=\"1.1\"></a>\n",
    "<a href=#cont> Back to Table of Contents </a>"
   ]
  },
  {
   "cell_type": "code",
   "execution_count": null,
   "id": "4a098586",
   "metadata": {},
   "outputs": [],
   "source": []
  },
  {
   "cell_type": "markdown",
   "id": "76c2071d",
   "metadata": {},
   "source": [
    "<a id=\"threefi\"></a>\n",
    "\n",
    "## 12. References\n",
    "<a class=\"anchor\" id=\"1.1\"></a>\n",
    "<a href=#cont> Back to Table of Contents </a>"
   ]
  },
  {
   "cell_type": "code",
   "execution_count": null,
   "id": "efc7d786",
   "metadata": {},
   "outputs": [],
   "source": []
  },
  {
   "cell_type": "markdown",
   "id": "388d84c2",
   "metadata": {},
   "source": [
    " <a id=\"threef\"></a>\n",
    "\n",
    "## 13.  Kaggle Submission\n",
    "<a class=\"anchor\" id=\"1.1\"></a>\n",
    "<a href=#cont> Back to Table of Contents </a>"
   ]
  },
  {
   "cell_type": "code",
   "execution_count": null,
   "id": "6fd22bb9",
   "metadata": {},
   "outputs": [],
   "source": []
  },
  {
   "cell_type": "markdown",
   "id": "c29aa28c",
   "metadata": {},
   "source": [
    "<a id=\"threeif\"></a>\n",
    "\n",
    "## 14 Saving the Models\n",
    "<a class=\"anchor\" id=\"1.1\"></a>\n",
    "<a href=#cont> Back to Table of Contents </a>"
   ]
  },
  {
   "cell_type": "code",
   "execution_count": null,
   "id": "02f86a84",
   "metadata": {},
   "outputs": [],
   "source": []
  }
 ],
 "metadata": {
  "kernelspec": {
   "display_name": "Python 3 (ipykernel)",
   "language": "python",
   "name": "python3"
  },
  "language_info": {
   "codemirror_mode": {
    "name": "ipython",
    "version": 3
   },
   "file_extension": ".py",
   "mimetype": "text/x-python",
   "name": "python",
   "nbconvert_exporter": "python",
   "pygments_lexer": "ipython3",
   "version": "3.9.12"
  },
  "toc": {
   "base_numbering": 1,
   "nav_menu": {},
   "number_sections": true,
   "sideBar": true,
   "skip_h1_title": false,
   "title_cell": "Table of Contents",
   "title_sidebar": "Contents",
   "toc_cell": false,
   "toc_position": {},
   "toc_section_display": true,
   "toc_window_display": false
  }
 },
 "nbformat": 4,
 "nbformat_minor": 5
}
