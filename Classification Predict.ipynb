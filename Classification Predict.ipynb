{
 "cells": [
  {
   "cell_type": "markdown",
   "id": "140fafe4",
   "metadata": {},
   "source": [
    "<a id=\"cont\"></a>\n",
    "\n",
    "## Table of Contents\n",
    "<a href=#one2>1. Meet the Collaborators</a>\n",
    "\n",
    "<a href=#one1>2. Introduction</a>\n",
    "\n",
    "<a href=#onei>3. Problem Statement</a>\n",
    "\n",
    "\n",
    "<a href=#one>4. Importing Packages</a>\n",
    "\n",
    "<a href=#two>5. Loading Data</a>\n",
    "\n",
    "<a href=#three>6. Exploratory Data Analysis (EDA)</a>\n",
    "\n",
    "\n",
    "<a href=#four>7. Data Engineering</a>\n",
    "\n",
    "<a href=#five>8. Modeling</a>\n",
    "\n",
    "<a href=#six>9. Model Performance</a>\n",
    "\n",
    "<a href=#seven>10. Model Explanations</a>\n",
    "\n",
    "<a href=#threefiv>11. Conclusion</a>\n",
    "\n",
    "<a href=#threefi>12. References</a>\n",
    "\n",
    "<a href=#threefi>13. Kaggle Submission</a>\n",
    "\n",
    "<a href=#threefi>14. Saving Models</a>"
   ]
  },
  {
   "cell_type": "markdown",
   "id": "85025e27",
   "metadata": {},
   "source": [
    "## 1. Meet the Colaborators"
   ]
  },
  {
   "cell_type": "markdown",
   "id": "b44310b1",
   "metadata": {},
   "source": [
    "   #### - AbdulMu'izz Okunade\n",
    "   #### - Ruth Favour Ossai\n",
    "   #### - Francis Egah\n",
    "   #### - Lesego Tiro\n",
    "   #### - Michael Benjamin\n",
    "   #### - Haruna Jibrin \n"
   ]
  },
  {
   "cell_type": "markdown",
   "id": "541a38a1",
   "metadata": {},
   "source": [
    "### Honour Code \n"
   ]
  },
  {
   "cell_type": "markdown",
   "id": "df33854d",
   "metadata": {},
   "source": [
    "Honour Code\n",
    "I {TEAM NM1}, confirm - by submitting this document - that the solutions in this notebook are a result of my own work and that I abide by the EDSA honour code.\n",
    "\n",
    "Non-compliance with the honour code constitutes a material breach of contract"
   ]
  },
  {
   "cell_type": "markdown",
   "id": "00858e56",
   "metadata": {},
   "source": [
    "<a id=\"one1\"></a>\n",
    "## 2. Introduction\n",
    "\n",
    "<a class=\"anchor\" id=\"1.1\"></a>\n",
    "<a href=#cont>Back to Table of Contents</a>"
   ]
  },
  {
   "cell_type": "markdown",
   "id": "ae554477",
   "metadata": {},
   "source": [
    "\n",
    "The world is dealing with a lot of Climate Change issues and companies are expected to operate and contribute to the worlds economy without harming the environment while maintaining a low carbon footprint.They offer products and services that are environmentally friendly and sustainable, in line with their values and ideals. To archieve such a goal it is neccesary to know how people perceive climate change and whether or not they believe that the repercussions of harming the eco-system are catastrophic or merely just an exageration.This would contribute to the market research efforts in gauging how their product/service may be received by the population.\n",
    "\n",
    "There are limited places or plartforms for such a study to carried out, so social media is used to gather data and study it to undertand the perspective of millions around the world towards climate change. Twitter posts are used as input and the sentiment of the tweet is used to interpret the the mindset towards climate change for millions around the world. \n"
   ]
  },
  {
   "cell_type": "markdown",
   "id": "1aec196c",
   "metadata": {},
   "source": [
    "<a id=\"onei\"></a>\n",
    "## 3.  Problem Statement: Twitter Sentiment Classification\n",
    "\n",
    "<a class=\"anchor\" id=\"1.1\"></a>\n",
    "<a href=#cont>Back to Table of Contents</a>"
   ]
  },
  {
   "cell_type": "markdown",
   "id": "55c850bf",
   "metadata": {},
   "source": [
    "The aim is to design and create a Machine learning Model that is able to classify wether or not a person believes in climate change.Providing an accurate and robust solution to this task gives companies access to a broad base of consumer sentiment, spanning multiple demographic and geographic categories - thus increasing their insights and informing future marketing strategies "
   ]
  },
  {
   "cell_type": "markdown",
   "id": "50801063",
   "metadata": {},
   "source": [
    " <a id=\"one\"></a>\n",
    "## 4. Importing Packages\n",
    "<a href=#cont>Back to Table of Contents</a>"
   ]
  },
  {
   "cell_type": "code",
   "execution_count": 1,
   "id": "0fcea5e5",
   "metadata": {},
   "outputs": [],
   "source": [
    "# utilities\n",
    "import re\n",
    "import numpy as np\n",
    "import pandas as pd\n",
    "import string\n",
    "import urllib\n",
    "import matplotlib.pyplot as plt\n",
    "# plotting\n",
    "import seaborn as sns\n",
    "from wordcloud import WordCloud\n",
    "import matplotlib.pyplot as plt\n",
    "# nltk\n",
    "from nltk.stem import WordNetLemmatizer\n",
    "from nltk.corpus import stopwords\n",
    "from nltk.tokenize import word_tokenize, TreebankWordTokenizer\n",
    "\n",
    "# sklearn\n",
    "from sklearn.svm import LinearSVC\n",
    "from sklearn.naive_bayes import BernoulliNB\n",
    "from sklearn.linear_model import LogisticRegression\n",
    "from sklearn.model_selection import train_test_split\n",
    "from sklearn.feature_extraction.text import TfidfVectorizer\n",
    "from sklearn.metrics import confusion_matrix, classification_report\n",
    "# Libraries from Sklearn\n",
    "from sklearn.model_selection import GridSearchCV\n",
    "from sklearn import svm\n",
    "from sklearn.naive_bayes import MultinomialNB\n",
    "from sklearn.linear_model import LogisticRegression\n",
    "from sklearn.model_selection import train_test_split\n",
    "from sklearn.feature_extraction.text import TfidfVectorizer\n",
    "from sklearn.metrics import confusion_matrix, classification_report\n",
    "from sklearn.feature_extraction.text import CountVectorizer\n",
    "from wordcloud import WordCloud, STOPWORDS\n",
    "from PIL import Image\n",
    "from nltk.sentiment.vader import SentimentIntensityAnalyzer\n",
    "from nltk.stem import SnowballStemmer\n",
    "from nltk.sentiment.vader import SentimentIntensityAnalyzer\n",
    "from sklearn.feature_extraction.text import CountVectorizer"
   ]
  },
  {
   "cell_type": "markdown",
   "id": "6dfd391c",
   "metadata": {},
   "source": [
    "<a id=\"two\"></a>\n",
    "## 5. Loading the Data\n",
    "<a class=\"anchor\" id=\"1.1\"></a>\n",
    "<a href=#cont>Back to Table of Contents</a>"
   ]
  },
  {
   "cell_type": "code",
   "execution_count": 2,
   "id": "840948d6",
   "metadata": {},
   "outputs": [],
   "source": [
    "# Load the train and test data\n",
    "\n",
    "df_train = pd.read_csv('train.csv')\n",
    "df_test= pd.read_csv('test_with_no_labels.csv')"
   ]
  },
  {
   "cell_type": "code",
   "execution_count": 3,
   "id": "788da2c4",
   "metadata": {
    "scrolled": true
   },
   "outputs": [
    {
     "data": {
      "text/html": [
       "<div>\n",
       "<style scoped>\n",
       "    .dataframe tbody tr th:only-of-type {\n",
       "        vertical-align: middle;\n",
       "    }\n",
       "\n",
       "    .dataframe tbody tr th {\n",
       "        vertical-align: top;\n",
       "    }\n",
       "\n",
       "    .dataframe thead th {\n",
       "        text-align: right;\n",
       "    }\n",
       "</style>\n",
       "<table border=\"1\" class=\"dataframe\">\n",
       "  <thead>\n",
       "    <tr style=\"text-align: right;\">\n",
       "      <th></th>\n",
       "      <th>sentiment</th>\n",
       "      <th>message</th>\n",
       "      <th>tweetid</th>\n",
       "    </tr>\n",
       "  </thead>\n",
       "  <tbody>\n",
       "    <tr>\n",
       "      <th>0</th>\n",
       "      <td>1</td>\n",
       "      <td>PolySciMajor EPA chief doesn't think carbon di...</td>\n",
       "      <td>625221</td>\n",
       "    </tr>\n",
       "    <tr>\n",
       "      <th>1</th>\n",
       "      <td>1</td>\n",
       "      <td>It's not like we lack evidence of anthropogeni...</td>\n",
       "      <td>126103</td>\n",
       "    </tr>\n",
       "    <tr>\n",
       "      <th>2</th>\n",
       "      <td>2</td>\n",
       "      <td>RT @RawStory: Researchers say we have three ye...</td>\n",
       "      <td>698562</td>\n",
       "    </tr>\n",
       "    <tr>\n",
       "      <th>3</th>\n",
       "      <td>1</td>\n",
       "      <td>#TodayinMaker# WIRED : 2016 was a pivotal year...</td>\n",
       "      <td>573736</td>\n",
       "    </tr>\n",
       "    <tr>\n",
       "      <th>4</th>\n",
       "      <td>1</td>\n",
       "      <td>RT @SoyNovioDeTodas: It's 2016, and a racist, ...</td>\n",
       "      <td>466954</td>\n",
       "    </tr>\n",
       "  </tbody>\n",
       "</table>\n",
       "</div>"
      ],
      "text/plain": [
       "   sentiment                                            message  tweetid\n",
       "0          1  PolySciMajor EPA chief doesn't think carbon di...   625221\n",
       "1          1  It's not like we lack evidence of anthropogeni...   126103\n",
       "2          2  RT @RawStory: Researchers say we have three ye...   698562\n",
       "3          1  #TodayinMaker# WIRED : 2016 was a pivotal year...   573736\n",
       "4          1  RT @SoyNovioDeTodas: It's 2016, and a racist, ...   466954"
      ]
     },
     "execution_count": 3,
     "metadata": {},
     "output_type": "execute_result"
    }
   ],
   "source": [
    "df_train.head()"
   ]
  },
  {
   "cell_type": "code",
   "execution_count": 4,
   "id": "cc52976b",
   "metadata": {},
   "outputs": [
    {
     "data": {
      "text/plain": [
       " 1    8530\n",
       " 2    3640\n",
       " 0    2353\n",
       "-1    1296\n",
       "Name: sentiment, dtype: int64"
      ]
     },
     "execution_count": 4,
     "metadata": {},
     "output_type": "execute_result"
    }
   ],
   "source": [
    "df_train.sentiment.value_counts()"
   ]
  },
  {
   "cell_type": "code",
   "execution_count": 5,
   "id": "1df27a34",
   "metadata": {},
   "outputs": [
    {
     "data": {
      "text/plain": [
       "\"# convert class from numerical to word definition of class\\ndef class_changer(df):\\n    df = df_train\\n    word_class = []\\n    old_class = df['sentiment']\\n    \\n    for class_ in old_class:\\n        if class_ == 2:\\n            word_class.append('News')\\n        elif class_ == 1:\\n            word_class.append('Pro')\\n        elif class_ == 0:\\n            word_class.append('Neutral')\\n        else:\\n            word_class.append('Anti')\\n    df['sentiment'] = word_class\\n    \\n    return df \\ndf_train = class_changer(df_train)\\ndf_test = class_changer(df_test)  \""
      ]
     },
     "execution_count": 5,
     "metadata": {},
     "output_type": "execute_result"
    }
   ],
   "source": [
    "'''# convert class from numerical to word definition of class\n",
    "def class_changer(df):\n",
    "    df = df_train\n",
    "    word_class = []\n",
    "    old_class = df['sentiment']\n",
    "    \n",
    "    for class_ in old_class:\n",
    "        if class_ == 2:\n",
    "            word_class.append('News')\n",
    "        elif class_ == 1:\n",
    "            word_class.append('Pro')\n",
    "        elif class_ == 0:\n",
    "            word_class.append('Neutral')\n",
    "        else:\n",
    "            word_class.append('Anti')\n",
    "    df['sentiment'] = word_class\n",
    "    \n",
    "    return df \n",
    "df_train = class_changer(df_train)\n",
    "df_test = class_changer(df_test)  '''  "
   ]
  },
  {
   "cell_type": "code",
   "execution_count": 6,
   "id": "efe13161",
   "metadata": {},
   "outputs": [],
   "source": [
    "df_train['sentiment word'] = df_train.sentiment.apply(lambda x: \"News\" if x ==2 else\"Pro\" if x==1 else \"Neutral\" if x==0 else \"Anti\")\n",
    "df_test['sentiment word'] = df_train.sentiment.apply(lambda x: \"News\" if x ==2 else\"Pro\" if x==1 else \"Neutral\" if x==0 else \"Anti\")"
   ]
  },
  {
   "cell_type": "markdown",
   "id": "826f4c4a",
   "metadata": {},
   "source": [
    "The train dataset includes all features of the Dataframe."
   ]
  },
  {
   "cell_type": "markdown",
   "id": "422732ed",
   "metadata": {},
   "source": [
    "<a id=\"three\"></a>\n",
    "## 6. Exploratory Data Analysis (EDA)\n",
    "<a class=\"anchor\" id=\"1.1\"></a>\n",
    "<a href=#cont>Back to Table of Contents</a>"
   ]
  },
  {
   "cell_type": "markdown",
   "id": "e8f3006f",
   "metadata": {},
   "source": [
    "### 6.1  The INITIAL INSPECTION AND OBSERVATION OF THE TRAIN DATASET\n",
    "\n"
   ]
  },
  {
   "cell_type": "code",
   "execution_count": 7,
   "id": "9d0127f4",
   "metadata": {},
   "outputs": [
    {
     "data": {
      "text/html": [
       "<div>\n",
       "<style scoped>\n",
       "    .dataframe tbody tr th:only-of-type {\n",
       "        vertical-align: middle;\n",
       "    }\n",
       "\n",
       "    .dataframe tbody tr th {\n",
       "        vertical-align: top;\n",
       "    }\n",
       "\n",
       "    .dataframe thead th {\n",
       "        text-align: right;\n",
       "    }\n",
       "</style>\n",
       "<table border=\"1\" class=\"dataframe\">\n",
       "  <thead>\n",
       "    <tr style=\"text-align: right;\">\n",
       "      <th></th>\n",
       "      <th>sentiment</th>\n",
       "      <th>message</th>\n",
       "      <th>tweetid</th>\n",
       "      <th>sentiment word</th>\n",
       "    </tr>\n",
       "  </thead>\n",
       "  <tbody>\n",
       "    <tr>\n",
       "      <th>0</th>\n",
       "      <td>1</td>\n",
       "      <td>PolySciMajor EPA chief doesn't think carbon di...</td>\n",
       "      <td>625221</td>\n",
       "      <td>Pro</td>\n",
       "    </tr>\n",
       "    <tr>\n",
       "      <th>1</th>\n",
       "      <td>1</td>\n",
       "      <td>It's not like we lack evidence of anthropogeni...</td>\n",
       "      <td>126103</td>\n",
       "      <td>Pro</td>\n",
       "    </tr>\n",
       "    <tr>\n",
       "      <th>2</th>\n",
       "      <td>2</td>\n",
       "      <td>RT @RawStory: Researchers say we have three ye...</td>\n",
       "      <td>698562</td>\n",
       "      <td>News</td>\n",
       "    </tr>\n",
       "    <tr>\n",
       "      <th>3</th>\n",
       "      <td>1</td>\n",
       "      <td>#TodayinMaker# WIRED : 2016 was a pivotal year...</td>\n",
       "      <td>573736</td>\n",
       "      <td>Pro</td>\n",
       "    </tr>\n",
       "    <tr>\n",
       "      <th>4</th>\n",
       "      <td>1</td>\n",
       "      <td>RT @SoyNovioDeTodas: It's 2016, and a racist, ...</td>\n",
       "      <td>466954</td>\n",
       "      <td>Pro</td>\n",
       "    </tr>\n",
       "    <tr>\n",
       "      <th>...</th>\n",
       "      <td>...</td>\n",
       "      <td>...</td>\n",
       "      <td>...</td>\n",
       "      <td>...</td>\n",
       "    </tr>\n",
       "    <tr>\n",
       "      <th>95</th>\n",
       "      <td>1</td>\n",
       "      <td>RT @RonaldKlain: As Trump decides on Paris, @B...</td>\n",
       "      <td>458845</td>\n",
       "      <td>Pro</td>\n",
       "    </tr>\n",
       "    <tr>\n",
       "      <th>96</th>\n",
       "      <td>1</td>\n",
       "      <td>RT @savingoceans: Lack of #climate change acti...</td>\n",
       "      <td>695439</td>\n",
       "      <td>Pro</td>\n",
       "    </tr>\n",
       "    <tr>\n",
       "      <th>97</th>\n",
       "      <td>1</td>\n",
       "      <td>“Yet another Trump advisor is clueless on clim...</td>\n",
       "      <td>894382</td>\n",
       "      <td>Pro</td>\n",
       "    </tr>\n",
       "    <tr>\n",
       "      <th>98</th>\n",
       "      <td>1</td>\n",
       "      <td>RT @StephenSchlegel: she's thinking about how ...</td>\n",
       "      <td>603318</td>\n",
       "      <td>Pro</td>\n",
       "    </tr>\n",
       "    <tr>\n",
       "      <th>99</th>\n",
       "      <td>2</td>\n",
       "      <td>U.S. environmental agency chief says humans co...</td>\n",
       "      <td>554354</td>\n",
       "      <td>News</td>\n",
       "    </tr>\n",
       "  </tbody>\n",
       "</table>\n",
       "<p>100 rows × 4 columns</p>\n",
       "</div>"
      ],
      "text/plain": [
       "    sentiment                                            message  tweetid  \\\n",
       "0           1  PolySciMajor EPA chief doesn't think carbon di...   625221   \n",
       "1           1  It's not like we lack evidence of anthropogeni...   126103   \n",
       "2           2  RT @RawStory: Researchers say we have three ye...   698562   \n",
       "3           1  #TodayinMaker# WIRED : 2016 was a pivotal year...   573736   \n",
       "4           1  RT @SoyNovioDeTodas: It's 2016, and a racist, ...   466954   \n",
       "..        ...                                                ...      ...   \n",
       "95          1  RT @RonaldKlain: As Trump decides on Paris, @B...   458845   \n",
       "96          1  RT @savingoceans: Lack of #climate change acti...   695439   \n",
       "97          1  “Yet another Trump advisor is clueless on clim...   894382   \n",
       "98          1  RT @StephenSchlegel: she's thinking about how ...   603318   \n",
       "99          2  U.S. environmental agency chief says humans co...   554354   \n",
       "\n",
       "   sentiment word  \n",
       "0             Pro  \n",
       "1             Pro  \n",
       "2            News  \n",
       "3             Pro  \n",
       "4             Pro  \n",
       "..            ...  \n",
       "95            Pro  \n",
       "96            Pro  \n",
       "97            Pro  \n",
       "98            Pro  \n",
       "99           News  \n",
       "\n",
       "[100 rows x 4 columns]"
      ]
     },
     "execution_count": 7,
     "metadata": {},
     "output_type": "execute_result"
    }
   ],
   "source": [
    "# train Dataset\n",
    "df_train.head(100)"
   ]
  },
  {
   "cell_type": "markdown",
   "id": "33957bdc",
   "metadata": {},
   "source": [
    "The first five rows and the last five rows of the dataset. This is the dataframe used to train the model."
   ]
  },
  {
   "cell_type": "code",
   "execution_count": 8,
   "id": "33e80c68",
   "metadata": {},
   "outputs": [
    {
     "data": {
      "text/html": [
       "<div>\n",
       "<style scoped>\n",
       "    .dataframe tbody tr th:only-of-type {\n",
       "        vertical-align: middle;\n",
       "    }\n",
       "\n",
       "    .dataframe tbody tr th {\n",
       "        vertical-align: top;\n",
       "    }\n",
       "\n",
       "    .dataframe thead th {\n",
       "        text-align: right;\n",
       "    }\n",
       "</style>\n",
       "<table border=\"1\" class=\"dataframe\">\n",
       "  <thead>\n",
       "    <tr style=\"text-align: right;\">\n",
       "      <th></th>\n",
       "      <th>message</th>\n",
       "      <th>tweetid</th>\n",
       "      <th>sentiment word</th>\n",
       "    </tr>\n",
       "  </thead>\n",
       "  <tbody>\n",
       "    <tr>\n",
       "      <th>0</th>\n",
       "      <td>Europe will now be looking to China to make su...</td>\n",
       "      <td>169760</td>\n",
       "      <td>Pro</td>\n",
       "    </tr>\n",
       "    <tr>\n",
       "      <th>1</th>\n",
       "      <td>Combine this with the polling of staffers re c...</td>\n",
       "      <td>35326</td>\n",
       "      <td>Pro</td>\n",
       "    </tr>\n",
       "    <tr>\n",
       "      <th>2</th>\n",
       "      <td>The scary, unimpeachable evidence that climate...</td>\n",
       "      <td>224985</td>\n",
       "      <td>News</td>\n",
       "    </tr>\n",
       "    <tr>\n",
       "      <th>3</th>\n",
       "      <td>@Karoli @morgfair @OsborneInk @dailykos \\nPuti...</td>\n",
       "      <td>476263</td>\n",
       "      <td>Pro</td>\n",
       "    </tr>\n",
       "    <tr>\n",
       "      <th>4</th>\n",
       "      <td>RT @FakeWillMoore: 'Female orgasms cause globa...</td>\n",
       "      <td>872928</td>\n",
       "      <td>Pro</td>\n",
       "    </tr>\n",
       "  </tbody>\n",
       "</table>\n",
       "</div>"
      ],
      "text/plain": [
       "                                             message  tweetid sentiment word\n",
       "0  Europe will now be looking to China to make su...   169760            Pro\n",
       "1  Combine this with the polling of staffers re c...    35326            Pro\n",
       "2  The scary, unimpeachable evidence that climate...   224985           News\n",
       "3  @Karoli @morgfair @OsborneInk @dailykos \\nPuti...   476263            Pro\n",
       "4  RT @FakeWillMoore: 'Female orgasms cause globa...   872928            Pro"
      ]
     },
     "execution_count": 8,
     "metadata": {},
     "output_type": "execute_result"
    }
   ],
   "source": [
    "df_test.head()"
   ]
  },
  {
   "cell_type": "markdown",
   "id": "52fc4455",
   "metadata": {},
   "source": [
    "This is the dataframe used to test the model.\n",
    "The Test Data set does not have the sentiment column which is the Target variable. The target varible is predicted in the modelling phase and the results are then compared to the sentiment column in the Train Dataset. This is how the accuracy of the model is measured."
   ]
  },
  {
   "cell_type": "code",
   "execution_count": 9,
   "id": "0488066f",
   "metadata": {},
   "outputs": [
    {
     "data": {
      "text/plain": [
       "Index(['sentiment', 'message', 'tweetid', 'sentiment word'], dtype='object')"
      ]
     },
     "execution_count": 9,
     "metadata": {},
     "output_type": "execute_result"
    }
   ],
   "source": [
    "# Columns of the dataset\n",
    "df_train.columns"
   ]
  },
  {
   "cell_type": "markdown",
   "id": "e48cbbb5",
   "metadata": {},
   "source": [
    "These are the columns that make up the dataset "
   ]
  },
  {
   "cell_type": "code",
   "execution_count": 10,
   "id": "7e7f28fa",
   "metadata": {},
   "outputs": [
    {
     "data": {
      "text/plain": [
       "(15819, 4)"
      ]
     },
     "execution_count": 10,
     "metadata": {},
     "output_type": "execute_result"
    }
   ],
   "source": [
    "# Shape of data Set\n",
    "df_train.shape\n"
   ]
  },
  {
   "cell_type": "markdown",
   "id": "5782eebc",
   "metadata": {},
   "source": [
    "\n",
    "This shows that the shape of the dataframe entails of 15819 rows and 3 rows.\n"
   ]
  },
  {
   "cell_type": "code",
   "execution_count": 11,
   "id": "8d33f169",
   "metadata": {},
   "outputs": [
    {
     "data": {
      "text/plain": [
       "63276"
      ]
     },
     "execution_count": 11,
     "metadata": {},
     "output_type": "execute_result"
    }
   ],
   "source": [
    "# total number of entries in dataset\n",
    "df_train.size"
   ]
  },
  {
   "cell_type": "markdown",
   "id": "3b8cda32",
   "metadata": {},
   "source": [
    "The dataframe consists of 47457 entries.\n"
   ]
  },
  {
   "cell_type": "code",
   "execution_count": 12,
   "id": "28d666a5",
   "metadata": {},
   "outputs": [
    {
     "data": {
      "text/plain": [
       "sentiment             4\n",
       "message           14229\n",
       "tweetid           15819\n",
       "sentiment word        4\n",
       "dtype: int64"
      ]
     },
     "execution_count": 12,
     "metadata": {},
     "output_type": "execute_result"
    }
   ],
   "source": [
    "#unique values in columns\n",
    "df_train.nunique()"
   ]
  },
  {
   "cell_type": "markdown",
   "id": "868796a9",
   "metadata": {},
   "source": [
    "This is the the number of unique values present in each of the three columns that makeup the dataset\n",
    "\n"
   ]
  },
  {
   "cell_type": "markdown",
   "id": "d5023cba",
   "metadata": {},
   "source": [
    "### 6.1 Column Datatypes\n"
   ]
  },
  {
   "cell_type": "code",
   "execution_count": 13,
   "id": "95ad6a64",
   "metadata": {},
   "outputs": [
    {
     "name": "stdout",
     "output_type": "stream",
     "text": [
      "<class 'pandas.core.frame.DataFrame'>\n",
      "RangeIndex: 15819 entries, 0 to 15818\n",
      "Data columns (total 4 columns):\n",
      " #   Column          Non-Null Count  Dtype \n",
      "---  ------          --------------  ----- \n",
      " 0   sentiment       15819 non-null  int64 \n",
      " 1   message         15819 non-null  object\n",
      " 2   tweetid         15819 non-null  int64 \n",
      " 3   sentiment word  15819 non-null  object\n",
      "dtypes: int64(2), object(2)\n",
      "memory usage: 494.5+ KB\n"
     ]
    }
   ],
   "source": [
    "#Data information\n",
    "df_train.info()"
   ]
  },
  {
   "cell_type": "code",
   "execution_count": 14,
   "id": "1d15194f",
   "metadata": {},
   "outputs": [
    {
     "data": {
      "text/plain": [
       "sentiment         0\n",
       "message           0\n",
       "tweetid           0\n",
       "sentiment word    0\n",
       "dtype: int64"
      ]
     },
     "execution_count": 14,
     "metadata": {},
     "output_type": "execute_result"
    }
   ],
   "source": [
    "# Nullvalues present in each column\n",
    "df_train.isnull().sum()"
   ]
  },
  {
   "cell_type": "markdown",
   "id": "d59c30cd",
   "metadata": {},
   "source": [
    "As represented above there are no missing values in any of the three feature of the dataset, which means there will not be any neccesary entity replacement in data engineering.\n"
   ]
  },
  {
   "cell_type": "code",
   "execution_count": 15,
   "id": "c51c3ea6",
   "metadata": {},
   "outputs": [
    {
     "data": {
      "text/html": [
       "<div>\n",
       "<style scoped>\n",
       "    .dataframe tbody tr th:only-of-type {\n",
       "        vertical-align: middle;\n",
       "    }\n",
       "\n",
       "    .dataframe tbody tr th {\n",
       "        vertical-align: top;\n",
       "    }\n",
       "\n",
       "    .dataframe thead th {\n",
       "        text-align: right;\n",
       "    }\n",
       "</style>\n",
       "<table border=\"1\" class=\"dataframe\">\n",
       "  <thead>\n",
       "    <tr style=\"text-align: right;\">\n",
       "      <th></th>\n",
       "      <th>message</th>\n",
       "      <th>sentiment word</th>\n",
       "    </tr>\n",
       "  </thead>\n",
       "  <tbody>\n",
       "    <tr>\n",
       "      <th>count</th>\n",
       "      <td>15819</td>\n",
       "      <td>15819</td>\n",
       "    </tr>\n",
       "    <tr>\n",
       "      <th>unique</th>\n",
       "      <td>14229</td>\n",
       "      <td>4</td>\n",
       "    </tr>\n",
       "    <tr>\n",
       "      <th>top</th>\n",
       "      <td>RT @StephenSchlegel: she's thinking about how ...</td>\n",
       "      <td>Pro</td>\n",
       "    </tr>\n",
       "    <tr>\n",
       "      <th>freq</th>\n",
       "      <td>307</td>\n",
       "      <td>8530</td>\n",
       "    </tr>\n",
       "  </tbody>\n",
       "</table>\n",
       "</div>"
      ],
      "text/plain": [
       "                                                  message sentiment word\n",
       "count                                               15819          15819\n",
       "unique                                              14229              4\n",
       "top     RT @StephenSchlegel: she's thinking about how ...            Pro\n",
       "freq                                                  307           8530"
      ]
     },
     "execution_count": 15,
     "metadata": {},
     "output_type": "execute_result"
    }
   ],
   "source": [
    "df_train.describe(include='object')"
   ]
  },
  {
   "cell_type": "code",
   "execution_count": 16,
   "id": "98bafed5",
   "metadata": {},
   "outputs": [
    {
     "data": {
      "text/plain": [
       "0    1\n",
       "Name: sentiment, dtype: int64"
      ]
     },
     "execution_count": 16,
     "metadata": {},
     "output_type": "execute_result"
    }
   ],
   "source": [
    "# The most occuring value in sentiment\n",
    "df_train['sentiment'].mode()"
   ]
  },
  {
   "cell_type": "markdown",
   "id": "d11ba858",
   "metadata": {},
   "source": [
    "The most occuring value in the sentiment column is '1', this is referred to as the mode."
   ]
  },
  {
   "cell_type": "code",
   "execution_count": 74,
   "id": "028f7a5a",
   "metadata": {},
   "outputs": [
    {
     "data": {
      "image/png": "[encoded data removed]",
      "text/plain": [
       "<Figure size 500x500 with 1 Axes>"
      ]
     },
     "metadata": {},
     "output_type": "display_data"
    }
   ],
   "source": [
    "plt.figure(figsize=(5,5))\n",
    "plt.margins(0.02)\n",
    "plt.xlabel('Sentiment', fontsize=20)\n",
    "plt.xticks(fontsize=10)\n",
    "plt.ylabel('Frequency', fontsize=20)\n",
    "plt.yticks(fontsize=10)\n",
    "plt.hist(df_train['sentiment'], bins=15)\n",
    "plt.title('Sentiment Distribution', fontsize=20)\n",
    "plt.show()"
   ]
  },
  {
   "cell_type": "markdown",
   "id": "834938a0",
   "metadata": {},
   "source": [
    "The visual clearly indicates that sentiment 1(Neutral) occurs way more in the sentiment column than 0(pro),-1(News) and 2(Anti). This is the mode."
   ]
  },
  {
   "cell_type": "code",
   "execution_count": 83,
   "id": "aa20b8f2",
   "metadata": {},
   "outputs": [
    {
     "data": {
      "image/png": "[encoded data removed]",
      "text/plain": [
       "<Figure size 640x480 with 1 Axes>"
      ]
     },
     "metadata": {},
     "output_type": "display_data"
    }
   ],
   "source": [
    "# Plotting the distribution for dataset.\n",
    "ax = df_train.groupby('sentiment').count().plot(kind='bar', title='Distribution of data',legend=True)\n",
    "ax.set_xticklabels(['News','Pro', 'Neutral', 'Anti'], rotation=0)\n",
    "plt.ylabel('Frequency', fontsize=15)\n",
    "#ax.set_yticklabels(['Count'], rotation=90)\n",
    "# Storing data in lists.\n",
    "text, sentiment = list(df_train['message']), list(df_train['sentiment'])"
   ]
  },
  {
   "cell_type": "markdown",
   "id": "7f002b53",
   "metadata": {},
   "source": [
    "This illustrates the sentiment entities in the dataset in a more understandable sense, the sentiment values are given meaning with -1 as News, 0 as Pro, 1 as Neutral and 2 as Anti. and the visual clearly shows on how each TweetiD is tied to a tweet Message. "
   ]
  },
  {
   "cell_type": "code",
   "execution_count": null,
   "id": "764a44a0",
   "metadata": {},
   "outputs": [],
   "source": []
  },
  {
   "cell_type": "code",
   "execution_count": null,
   "id": "dea9b3e5",
   "metadata": {},
   "outputs": [],
   "source": []
  },
  {
   "cell_type": "markdown",
   "id": "db63e956",
   "metadata": {},
   "source": [
    "<a id=\"four\"></a>\n",
    "## 7. Data Engineering\n",
    "<a class=\"anchor\" id=\"1.1\"></a>\n",
    "<a href=#cont>Back to Table of Contents</a>\n"
   ]
  },
  {
   "cell_type": "markdown",
   "id": "0ccec3a8",
   "metadata": {},
   "source": [
    "**Cleaning and removing URL’s**"
   ]
  },
  {
   "cell_type": "code",
   "execution_count": 19,
   "id": "151069ee",
   "metadata": {},
   "outputs": [],
   "source": [
    "pattern_url = r'http[s]?://(?:[A-Za-z]|[0-9]|[$-_@.&+]|[!*\\(\\),]|(?:%[0-9A-Fa-f][0-9A-Fa-f]))+'\n",
    "subs_url = r'url-web'\n",
    "df_train['message'] = df_train['message'].replace(to_replace = pattern_url, value = subs_url, regex = True)\n",
    "df_test['message'] = df_train['message'].replace(to_replace = pattern_url, value = subs_url, regex = True)"
   ]
  },
  {
   "cell_type": "markdown",
   "id": "c2954502",
   "metadata": {},
   "source": [
    "**Removing Punctuations**"
   ]
  },
  {
   "cell_type": "markdown",
   "id": "a907b65f",
   "metadata": {},
   "source": [
    "Punctuation Removal: \n",
    "In this step, all the punctuations from the text are removed. string library of Python contains some pre-defined list of punctuations such as ‘!”#$%&'()*+,-./:;?@[\\]^_`{|}~’"
   ]
  },
  {
   "cell_type": "code",
   "execution_count": 20,
   "id": "864277f1",
   "metadata": {},
   "outputs": [
    {
     "data": {
      "text/html": [
       "<div>\n",
       "<style scoped>\n",
       "    .dataframe tbody tr th:only-of-type {\n",
       "        vertical-align: middle;\n",
       "    }\n",
       "\n",
       "    .dataframe tbody tr th {\n",
       "        vertical-align: top;\n",
       "    }\n",
       "\n",
       "    .dataframe thead th {\n",
       "        text-align: right;\n",
       "    }\n",
       "</style>\n",
       "<table border=\"1\" class=\"dataframe\">\n",
       "  <thead>\n",
       "    <tr style=\"text-align: right;\">\n",
       "      <th></th>\n",
       "      <th>sentiment</th>\n",
       "      <th>message</th>\n",
       "      <th>tweetid</th>\n",
       "      <th>sentiment word</th>\n",
       "    </tr>\n",
       "  </thead>\n",
       "  <tbody>\n",
       "    <tr>\n",
       "      <th>0</th>\n",
       "      <td>1</td>\n",
       "      <td>PolySciMajor EPA chief doesnt think carbon dio...</td>\n",
       "      <td>625221</td>\n",
       "      <td>Pro</td>\n",
       "    </tr>\n",
       "    <tr>\n",
       "      <th>1</th>\n",
       "      <td>1</td>\n",
       "      <td>Its not like we lack evidence of anthropogenic...</td>\n",
       "      <td>126103</td>\n",
       "      <td>Pro</td>\n",
       "    </tr>\n",
       "    <tr>\n",
       "      <th>2</th>\n",
       "      <td>2</td>\n",
       "      <td>RT RawStory Researchers say we have three year...</td>\n",
       "      <td>698562</td>\n",
       "      <td>News</td>\n",
       "    </tr>\n",
       "    <tr>\n",
       "      <th>3</th>\n",
       "      <td>1</td>\n",
       "      <td>TodayinMaker WIRED  2016 was a pivotal year in...</td>\n",
       "      <td>573736</td>\n",
       "      <td>Pro</td>\n",
       "    </tr>\n",
       "    <tr>\n",
       "      <th>4</th>\n",
       "      <td>1</td>\n",
       "      <td>RT SoyNovioDeTodas Its 2016 and a racist sexis...</td>\n",
       "      <td>466954</td>\n",
       "      <td>Pro</td>\n",
       "    </tr>\n",
       "  </tbody>\n",
       "</table>\n",
       "</div>"
      ],
      "text/plain": [
       "   sentiment                                            message  tweetid  \\\n",
       "0          1  PolySciMajor EPA chief doesnt think carbon dio...   625221   \n",
       "1          1  Its not like we lack evidence of anthropogenic...   126103   \n",
       "2          2  RT RawStory Researchers say we have three year...   698562   \n",
       "3          1  TodayinMaker WIRED  2016 was a pivotal year in...   573736   \n",
       "4          1  RT SoyNovioDeTodas Its 2016 and a racist sexis...   466954   \n",
       "\n",
       "  sentiment word  \n",
       "0            Pro  \n",
       "1            Pro  \n",
       "2           News  \n",
       "3            Pro  \n",
       "4            Pro  "
      ]
     },
     "execution_count": 20,
     "metadata": {},
     "output_type": "execute_result"
    }
   ],
   "source": [
    "#defining the function to remove punctuation\n",
    "def remove_punctuation(text):\n",
    "    punctuationfree=\"\".join([i for i in text if i not in string.punctuation])\n",
    "    return punctuationfree\n",
    "#storing the puntuation free text\n",
    "df_train['message']= df_train['message'].apply(lambda x:remove_punctuation(x))\n",
    "df_test['message']= df_train['message'].apply(lambda x:remove_punctuation(x))\n",
    "df_train.head()"
   ]
  },
  {
   "cell_type": "markdown",
   "id": "2614bd9c",
   "metadata": {},
   "source": [
    "We can see in the above output, all the punctuations are removed from message and stored in the clean_msg column. "
   ]
  },
  {
   "cell_type": "markdown",
   "id": "097d842f",
   "metadata": {},
   "source": [
    "**Lowering the text:**\n",
    "\n",
    "It is one of the most common preprocessing steps where the text is converted into the same case preferably lower case. We are doing this because we don't want `Message` and `message` or any form of its spellings to be read as  different words."
   ]
  },
  {
   "cell_type": "code",
   "execution_count": 21,
   "id": "ab9c6e78",
   "metadata": {},
   "outputs": [],
   "source": [
    "df_train['message']= df_train['message'].apply(lambda x: x.lower())\n",
    "df_test['message']= df_train['message'].apply(lambda x: x.lower())"
   ]
  },
  {
   "cell_type": "markdown",
   "id": "34486375",
   "metadata": {},
   "source": [
    "We have succesfully converted all the characters to lower case"
   ]
  },
  {
   "cell_type": "code",
   "execution_count": 22,
   "id": "7100c424",
   "metadata": {
    "scrolled": false
   },
   "outputs": [],
   "source": [
    "tokeniser = TreebankWordTokenizer()\n",
    "\n",
    "# Apply tokenization to both test and train data\n",
    "df_train['message'] = df_train['message'].apply(tokeniser.tokenize)\n",
    "df_test['message'] = df_test['message'].apply(tokeniser.tokenize)"
   ]
  },
  {
   "cell_type": "markdown",
   "id": "6fdb8117",
   "metadata": {},
   "source": [
    "**Removal of Stopwords**"
   ]
  },
  {
   "cell_type": "code",
   "execution_count": 23,
   "id": "5330f8a4",
   "metadata": {
    "scrolled": true
   },
   "outputs": [
    {
     "data": {
      "text/html": [
       "<div>\n",
       "<style scoped>\n",
       "    .dataframe tbody tr th:only-of-type {\n",
       "        vertical-align: middle;\n",
       "    }\n",
       "\n",
       "    .dataframe tbody tr th {\n",
       "        vertical-align: top;\n",
       "    }\n",
       "\n",
       "    .dataframe thead th {\n",
       "        text-align: right;\n",
       "    }\n",
       "</style>\n",
       "<table border=\"1\" class=\"dataframe\">\n",
       "  <thead>\n",
       "    <tr style=\"text-align: right;\">\n",
       "      <th></th>\n",
       "      <th>sentiment</th>\n",
       "      <th>message</th>\n",
       "      <th>tweetid</th>\n",
       "      <th>sentiment word</th>\n",
       "    </tr>\n",
       "  </thead>\n",
       "  <tbody>\n",
       "    <tr>\n",
       "      <th>0</th>\n",
       "      <td>1</td>\n",
       "      <td>['polyscimajor', 'epa', 'chief', 'doesnt', 'th...</td>\n",
       "      <td>625221</td>\n",
       "      <td>Pro</td>\n",
       "    </tr>\n",
       "    <tr>\n",
       "      <th>1</th>\n",
       "      <td>1</td>\n",
       "      <td>['its', 'not', 'like', 'we', 'lack', 'evidence...</td>\n",
       "      <td>126103</td>\n",
       "      <td>Pro</td>\n",
       "    </tr>\n",
       "    <tr>\n",
       "      <th>2</th>\n",
       "      <td>2</td>\n",
       "      <td>['rt', 'rawstory', 'researchers', 'say', 'we',...</td>\n",
       "      <td>698562</td>\n",
       "      <td>News</td>\n",
       "    </tr>\n",
       "    <tr>\n",
       "      <th>3</th>\n",
       "      <td>1</td>\n",
       "      <td>['todayinmaker', 'wired', '2016', 'was', 'a', ...</td>\n",
       "      <td>573736</td>\n",
       "      <td>Pro</td>\n",
       "    </tr>\n",
       "    <tr>\n",
       "      <th>4</th>\n",
       "      <td>1</td>\n",
       "      <td>['rt', 'soynoviodetodas', 'its', '2016', 'and'...</td>\n",
       "      <td>466954</td>\n",
       "      <td>Pro</td>\n",
       "    </tr>\n",
       "  </tbody>\n",
       "</table>\n",
       "</div>"
      ],
      "text/plain": [
       "   sentiment                                            message  tweetid  \\\n",
       "0          1  ['polyscimajor', 'epa', 'chief', 'doesnt', 'th...   625221   \n",
       "1          1  ['its', 'not', 'like', 'we', 'lack', 'evidence...   126103   \n",
       "2          2  ['rt', 'rawstory', 'researchers', 'say', 'we',...   698562   \n",
       "3          1  ['todayinmaker', 'wired', '2016', 'was', 'a', ...   573736   \n",
       "4          1  ['rt', 'soynoviodetodas', 'its', '2016', 'and'...   466954   \n",
       "\n",
       "  sentiment word  \n",
       "0            Pro  \n",
       "1            Pro  \n",
       "2           News  \n",
       "3            Pro  \n",
       "4            Pro  "
      ]
     },
     "execution_count": 23,
     "metadata": {},
     "output_type": "execute_result"
    }
   ],
   "source": [
    "stopwords_list = stopwords.words('english')\n",
    "stopwords_list = set(stopwords_list)\n",
    "def cleaning_stopwords(text):\n",
    "    return \" \".join([word for word in str(text).split() if word not in stopwords_list])\n",
    "df_train['message'] = df_train['message'].apply(lambda text: cleaning_stopwords(text))\n",
    "df_test['message'] = df_test['message'].apply(lambda text: cleaning_stopwords(text))\n",
    "df_train.head()"
   ]
  },
  {
   "cell_type": "markdown",
   "id": "ab663545",
   "metadata": {},
   "source": [
    "**Cleaning and removing repeating characters**"
   ]
  },
  {
   "cell_type": "code",
   "execution_count": 24,
   "id": "08f727ce",
   "metadata": {
    "scrolled": true
   },
   "outputs": [
    {
     "data": {
      "text/html": [
       "<div>\n",
       "<style scoped>\n",
       "    .dataframe tbody tr th:only-of-type {\n",
       "        vertical-align: middle;\n",
       "    }\n",
       "\n",
       "    .dataframe tbody tr th {\n",
       "        vertical-align: top;\n",
       "    }\n",
       "\n",
       "    .dataframe thead th {\n",
       "        text-align: right;\n",
       "    }\n",
       "</style>\n",
       "<table border=\"1\" class=\"dataframe\">\n",
       "  <thead>\n",
       "    <tr style=\"text-align: right;\">\n",
       "      <th></th>\n",
       "      <th>sentiment</th>\n",
       "      <th>message</th>\n",
       "      <th>tweetid</th>\n",
       "      <th>sentiment word</th>\n",
       "    </tr>\n",
       "  </thead>\n",
       "  <tbody>\n",
       "    <tr>\n",
       "      <th>15814</th>\n",
       "      <td>1</td>\n",
       "      <td>['rt', 'ezlusztig', 'they', 'took', 'down', 't...</td>\n",
       "      <td>22001</td>\n",
       "      <td>Pro</td>\n",
       "    </tr>\n",
       "    <tr>\n",
       "      <th>15815</th>\n",
       "      <td>2</td>\n",
       "      <td>['rt', 'washingtonpost', 'how', 'climate', 'ch...</td>\n",
       "      <td>17856</td>\n",
       "      <td>News</td>\n",
       "    </tr>\n",
       "    <tr>\n",
       "      <th>15816</th>\n",
       "      <td>0</td>\n",
       "      <td>['notiven', 'rt', 'nytimesworld', 'what', 'doe...</td>\n",
       "      <td>384248</td>\n",
       "      <td>Neutral</td>\n",
       "    </tr>\n",
       "    <tr>\n",
       "      <th>15817</th>\n",
       "      <td>-1</td>\n",
       "      <td>['rt', 'sara8smiles', 'hey', 'liberals', 'the'...</td>\n",
       "      <td>819732</td>\n",
       "      <td>Anti</td>\n",
       "    </tr>\n",
       "    <tr>\n",
       "      <th>15818</th>\n",
       "      <td>0</td>\n",
       "      <td>['rt', 'chetcannon', 'kurteichenwalds', 'clima...</td>\n",
       "      <td>806319</td>\n",
       "      <td>Neutral</td>\n",
       "    </tr>\n",
       "  </tbody>\n",
       "</table>\n",
       "</div>"
      ],
      "text/plain": [
       "       sentiment                                            message  tweetid  \\\n",
       "15814          1  ['rt', 'ezlusztig', 'they', 'took', 'down', 't...    22001   \n",
       "15815          2  ['rt', 'washingtonpost', 'how', 'climate', 'ch...    17856   \n",
       "15816          0  ['notiven', 'rt', 'nytimesworld', 'what', 'doe...   384248   \n",
       "15817         -1  ['rt', 'sara8smiles', 'hey', 'liberals', 'the'...   819732   \n",
       "15818          0  ['rt', 'chetcannon', 'kurteichenwalds', 'clima...   806319   \n",
       "\n",
       "      sentiment word  \n",
       "15814            Pro  \n",
       "15815           News  \n",
       "15816        Neutral  \n",
       "15817           Anti  \n",
       "15818        Neutral  "
      ]
     },
     "execution_count": 24,
     "metadata": {},
     "output_type": "execute_result"
    }
   ],
   "source": [
    "def cleaning_repeating_char(text):\n",
    "    return re.sub(r'(.)1+', r'1', text)\n",
    "df_train['message'] = df_train['message'].apply(lambda x: cleaning_repeating_char(x))\n",
    "df_test['message'] = df_test['message'].apply(lambda x: cleaning_repeating_char(x))\n",
    "df_train.tail()"
   ]
  },
  {
   "cell_type": "markdown",
   "id": "138074ce",
   "metadata": {},
   "source": [
    "**Cleaning and removing Numbers**"
   ]
  },
  {
   "cell_type": "code",
   "execution_count": 25,
   "id": "8dd59896",
   "metadata": {
    "scrolled": true
   },
   "outputs": [
    {
     "data": {
      "text/html": [
       "<div>\n",
       "<style scoped>\n",
       "    .dataframe tbody tr th:only-of-type {\n",
       "        vertical-align: middle;\n",
       "    }\n",
       "\n",
       "    .dataframe tbody tr th {\n",
       "        vertical-align: top;\n",
       "    }\n",
       "\n",
       "    .dataframe thead th {\n",
       "        text-align: right;\n",
       "    }\n",
       "</style>\n",
       "<table border=\"1\" class=\"dataframe\">\n",
       "  <thead>\n",
       "    <tr style=\"text-align: right;\">\n",
       "      <th></th>\n",
       "      <th>sentiment</th>\n",
       "      <th>message</th>\n",
       "      <th>tweetid</th>\n",
       "      <th>sentiment word</th>\n",
       "    </tr>\n",
       "  </thead>\n",
       "  <tbody>\n",
       "    <tr>\n",
       "      <th>15814</th>\n",
       "      <td>1</td>\n",
       "      <td>['rt', 'ezlusztig', 'they', 'took', 'down', 't...</td>\n",
       "      <td>22001</td>\n",
       "      <td>Pro</td>\n",
       "    </tr>\n",
       "    <tr>\n",
       "      <th>15815</th>\n",
       "      <td>2</td>\n",
       "      <td>['rt', 'washingtonpost', 'how', 'climate', 'ch...</td>\n",
       "      <td>17856</td>\n",
       "      <td>News</td>\n",
       "    </tr>\n",
       "    <tr>\n",
       "      <th>15816</th>\n",
       "      <td>0</td>\n",
       "      <td>['notiven', 'rt', 'nytimesworld', 'what', 'doe...</td>\n",
       "      <td>384248</td>\n",
       "      <td>Neutral</td>\n",
       "    </tr>\n",
       "    <tr>\n",
       "      <th>15817</th>\n",
       "      <td>-1</td>\n",
       "      <td>['rt', 'sarasmiles', 'hey', 'liberals', 'the',...</td>\n",
       "      <td>819732</td>\n",
       "      <td>Anti</td>\n",
       "    </tr>\n",
       "    <tr>\n",
       "      <th>15818</th>\n",
       "      <td>0</td>\n",
       "      <td>['rt', 'chetcannon', 'kurteichenwalds', 'clima...</td>\n",
       "      <td>806319</td>\n",
       "      <td>Neutral</td>\n",
       "    </tr>\n",
       "  </tbody>\n",
       "</table>\n",
       "</div>"
      ],
      "text/plain": [
       "       sentiment                                            message  tweetid  \\\n",
       "15814          1  ['rt', 'ezlusztig', 'they', 'took', 'down', 't...    22001   \n",
       "15815          2  ['rt', 'washingtonpost', 'how', 'climate', 'ch...    17856   \n",
       "15816          0  ['notiven', 'rt', 'nytimesworld', 'what', 'doe...   384248   \n",
       "15817         -1  ['rt', 'sarasmiles', 'hey', 'liberals', 'the',...   819732   \n",
       "15818          0  ['rt', 'chetcannon', 'kurteichenwalds', 'clima...   806319   \n",
       "\n",
       "      sentiment word  \n",
       "15814            Pro  \n",
       "15815           News  \n",
       "15816        Neutral  \n",
       "15817           Anti  \n",
       "15818        Neutral  "
      ]
     },
     "execution_count": 25,
     "metadata": {},
     "output_type": "execute_result"
    }
   ],
   "source": [
    "def cleaning_numbers(data):\n",
    "    return re.sub('[0-9]+', '', data)\n",
    "\n",
    "#Apply cleaning_number function to train and test data\n",
    "df_train['message'] = df_train['message'].apply(lambda x: cleaning_numbers(x))\n",
    "df_test['message'] = df_test['message'].apply(lambda x: cleaning_numbers(x))\n",
    "df_train.tail()"
   ]
  },
  {
   "cell_type": "markdown",
   "id": "546f374a",
   "metadata": {},
   "source": [
    "**Tokenization:** \n",
    "\n",
    "In this step, the text is split into smaller units. We can use either sentence tokenization or word tokenization based on our problem statement."
   ]
  },
  {
   "cell_type": "markdown",
   "id": "8dc5a97b",
   "metadata": {},
   "source": [
    "tokeniser = TreebankWordTokenizer()\n",
    "df_train['message'] = df_train['message'].apply(tokeniser.tokenize)\n",
    "df_test['message'] = df_test['message'].apply(tokeniser.tokenize)"
   ]
  },
  {
   "cell_type": "code",
   "execution_count": 26,
   "id": "60eaa54a",
   "metadata": {},
   "outputs": [],
   "source": [
    "def tokenization(text):\n",
    "    text = re.split('\\W+', text)\n",
    "    return text"
   ]
  },
  {
   "cell_type": "code",
   "execution_count": 27,
   "id": "6a296934",
   "metadata": {},
   "outputs": [],
   "source": [
    "df_train['message'] = df_train['message'].apply(lambda x: tokenization(x.lower()))\n",
    "df_test['message'] = df_test['message'].apply(lambda x: tokenization(x.lower()))"
   ]
  },
  {
   "cell_type": "code",
   "execution_count": null,
   "id": "17cd300e",
   "metadata": {},
   "outputs": [],
   "source": []
  },
  {
   "cell_type": "code",
   "execution_count": 28,
   "id": "641bb262",
   "metadata": {
    "scrolled": true
   },
   "outputs": [
    {
     "data": {
      "text/html": [
       "<div>\n",
       "<style scoped>\n",
       "    .dataframe tbody tr th:only-of-type {\n",
       "        vertical-align: middle;\n",
       "    }\n",
       "\n",
       "    .dataframe tbody tr th {\n",
       "        vertical-align: top;\n",
       "    }\n",
       "\n",
       "    .dataframe thead th {\n",
       "        text-align: right;\n",
       "    }\n",
       "</style>\n",
       "<table border=\"1\" class=\"dataframe\">\n",
       "  <thead>\n",
       "    <tr style=\"text-align: right;\">\n",
       "      <th></th>\n",
       "      <th>sentiment</th>\n",
       "      <th>message</th>\n",
       "      <th>tweetid</th>\n",
       "      <th>sentiment word</th>\n",
       "    </tr>\n",
       "  </thead>\n",
       "  <tbody>\n",
       "    <tr>\n",
       "      <th>0</th>\n",
       "      <td>1</td>\n",
       "      <td>[, polyscimajor, epa, chief, doesnt, think, ca...</td>\n",
       "      <td>625221</td>\n",
       "      <td>Pro</td>\n",
       "    </tr>\n",
       "    <tr>\n",
       "      <th>1</th>\n",
       "      <td>1</td>\n",
       "      <td>[, its, not, like, we, lack, evidence, of, ant...</td>\n",
       "      <td>126103</td>\n",
       "      <td>Pro</td>\n",
       "    </tr>\n",
       "    <tr>\n",
       "      <th>2</th>\n",
       "      <td>2</td>\n",
       "      <td>[, rt, rawstory, researchers, say, we, have, t...</td>\n",
       "      <td>698562</td>\n",
       "      <td>News</td>\n",
       "    </tr>\n",
       "    <tr>\n",
       "      <th>3</th>\n",
       "      <td>1</td>\n",
       "      <td>[, todayinmaker, wired, was, a, pivotal, year,...</td>\n",
       "      <td>573736</td>\n",
       "      <td>Pro</td>\n",
       "    </tr>\n",
       "    <tr>\n",
       "      <th>4</th>\n",
       "      <td>1</td>\n",
       "      <td>[, rt, soynoviodetodas, its, and, a, racist, s...</td>\n",
       "      <td>466954</td>\n",
       "      <td>Pro</td>\n",
       "    </tr>\n",
       "  </tbody>\n",
       "</table>\n",
       "</div>"
      ],
      "text/plain": [
       "   sentiment                                            message  tweetid  \\\n",
       "0          1  [, polyscimajor, epa, chief, doesnt, think, ca...   625221   \n",
       "1          1  [, its, not, like, we, lack, evidence, of, ant...   126103   \n",
       "2          2  [, rt, rawstory, researchers, say, we, have, t...   698562   \n",
       "3          1  [, todayinmaker, wired, was, a, pivotal, year,...   573736   \n",
       "4          1  [, rt, soynoviodetodas, its, and, a, racist, s...   466954   \n",
       "\n",
       "  sentiment word  \n",
       "0            Pro  \n",
       "1            Pro  \n",
       "2           News  \n",
       "3            Pro  \n",
       "4            Pro  "
      ]
     },
     "execution_count": 28,
     "metadata": {},
     "output_type": "execute_result"
    }
   ],
   "source": [
    "import nltk\n",
    "st = nltk.PorterStemmer()\n",
    "def stemming_on_text(data):\n",
    "    text = [st.stem(word) for word in data]\n",
    "    return data\n",
    "df_train['message']= df_train['message'].apply(lambda x: stemming_on_text(x))\n",
    "df_test['message']= df_test['message'].apply(lambda x: stemming_on_text(x))\n",
    "df_train.head()"
   ]
  },
  {
   "cell_type": "code",
   "execution_count": 29,
   "id": "5caeabf6",
   "metadata": {},
   "outputs": [
    {
     "data": {
      "text/html": [
       "<div>\n",
       "<style scoped>\n",
       "    .dataframe tbody tr th:only-of-type {\n",
       "        vertical-align: middle;\n",
       "    }\n",
       "\n",
       "    .dataframe tbody tr th {\n",
       "        vertical-align: top;\n",
       "    }\n",
       "\n",
       "    .dataframe thead th {\n",
       "        text-align: right;\n",
       "    }\n",
       "</style>\n",
       "<table border=\"1\" class=\"dataframe\">\n",
       "  <thead>\n",
       "    <tr style=\"text-align: right;\">\n",
       "      <th></th>\n",
       "      <th>sentiment</th>\n",
       "      <th>message</th>\n",
       "      <th>tweetid</th>\n",
       "      <th>sentiment word</th>\n",
       "    </tr>\n",
       "  </thead>\n",
       "  <tbody>\n",
       "    <tr>\n",
       "      <th>0</th>\n",
       "      <td>1</td>\n",
       "      <td>[, polyscimajor, epa, chief, doesnt, think, ca...</td>\n",
       "      <td>625221</td>\n",
       "      <td>Pro</td>\n",
       "    </tr>\n",
       "    <tr>\n",
       "      <th>1</th>\n",
       "      <td>1</td>\n",
       "      <td>[, its, not, like, we, lack, evidence, of, ant...</td>\n",
       "      <td>126103</td>\n",
       "      <td>Pro</td>\n",
       "    </tr>\n",
       "    <tr>\n",
       "      <th>2</th>\n",
       "      <td>2</td>\n",
       "      <td>[, rt, rawstory, researchers, say, we, have, t...</td>\n",
       "      <td>698562</td>\n",
       "      <td>News</td>\n",
       "    </tr>\n",
       "    <tr>\n",
       "      <th>3</th>\n",
       "      <td>1</td>\n",
       "      <td>[, todayinmaker, wired, was, a, pivotal, year,...</td>\n",
       "      <td>573736</td>\n",
       "      <td>Pro</td>\n",
       "    </tr>\n",
       "    <tr>\n",
       "      <th>4</th>\n",
       "      <td>1</td>\n",
       "      <td>[, rt, soynoviodetodas, its, and, a, racist, s...</td>\n",
       "      <td>466954</td>\n",
       "      <td>Pro</td>\n",
       "    </tr>\n",
       "  </tbody>\n",
       "</table>\n",
       "</div>"
      ],
      "text/plain": [
       "   sentiment                                            message  tweetid  \\\n",
       "0          1  [, polyscimajor, epa, chief, doesnt, think, ca...   625221   \n",
       "1          1  [, its, not, like, we, lack, evidence, of, ant...   126103   \n",
       "2          2  [, rt, rawstory, researchers, say, we, have, t...   698562   \n",
       "3          1  [, todayinmaker, wired, was, a, pivotal, year,...   573736   \n",
       "4          1  [, rt, soynoviodetodas, its, and, a, racist, s...   466954   \n",
       "\n",
       "  sentiment word  \n",
       "0            Pro  \n",
       "1            Pro  \n",
       "2           News  \n",
       "3            Pro  \n",
       "4            Pro  "
      ]
     },
     "execution_count": 29,
     "metadata": {},
     "output_type": "execute_result"
    }
   ],
   "source": [
    "lemma = nltk.WordNetLemmatizer()\n",
    "def lemmatizer_on_text(data):\n",
    "    text = [lemma.lemmatize(word) for word in data]\n",
    "    return data\n",
    "df_train['message'] = df_train['message'].apply(lambda x: lemmatizer_on_text(x))\n",
    "df_test['message'] = df_test['message'].apply(lambda x: lemmatizer_on_text(x))\n",
    "df_train.head()"
   ]
  },
  {
   "cell_type": "markdown",
   "id": "1623b2ba",
   "metadata": {},
   "source": [
    "**Separating input feature and Output**"
   ]
  },
  {
   "cell_type": "code",
   "execution_count": 30,
   "id": "878fee34",
   "metadata": {},
   "outputs": [],
   "source": [
    "X=df_train.message\n",
    "y=df_train.sentiment"
   ]
  },
  {
   "cell_type": "code",
   "execution_count": 31,
   "id": "e45cb44a",
   "metadata": {},
   "outputs": [],
   "source": [
    "dx = df_test.message"
   ]
  },
  {
   "cell_type": "code",
   "execution_count": 32,
   "id": "1fe33742",
   "metadata": {},
   "outputs": [],
   "source": [
    "# Separating the 80% data for training data and 20% for testing data\n",
    "X_train, X_test, y_train, y_test = train_test_split(X,y,test_size = 20, random_state =42)"
   ]
  },
  {
   "cell_type": "code",
   "execution_count": 33,
   "id": "3ecd60dc",
   "metadata": {},
   "outputs": [
    {
     "ename": "ValueError",
     "evalue": "The truth value of a Series is ambiguous. Use a.empty, a.bool(), a.item(), a.any() or a.all().",
     "output_type": "error",
     "traceback": [
      "\u001b[0;31m---------------------------------------------------------------------------\u001b[0m",
      "\u001b[0;31mValueError\u001b[0m                                Traceback (most recent call last)",
      "Input \u001b[0;32mIn [33]\u001b[0m, in \u001b[0;36m<cell line: 3>\u001b[0;34m()\u001b[0m\n\u001b[1;32m      1\u001b[0m \u001b[38;5;66;03m#Appliyng Countvectorizer\u001b[39;00m\n\u001b[1;32m      2\u001b[0m countVectorizer \u001b[38;5;241m=\u001b[39m CountVectorizer(analyzer\u001b[38;5;241m=\u001b[39mdf_train\u001b[38;5;241m.\u001b[39mmessage) \n\u001b[0;32m----> 3\u001b[0m countVector \u001b[38;5;241m=\u001b[39m \u001b[43mcountVectorizer\u001b[49m\u001b[38;5;241;43m.\u001b[39;49m\u001b[43mfit_transform\u001b[49m\u001b[43m(\u001b[49m\u001b[43mdf_train\u001b[49m\u001b[43m[\u001b[49m\u001b[38;5;124;43m'\u001b[39;49m\u001b[38;5;124;43mmessage\u001b[39;49m\u001b[38;5;124;43m'\u001b[39;49m\u001b[43m]\u001b[49m\u001b[43m)\u001b[49m\n\u001b[1;32m      4\u001b[0m \u001b[38;5;28mprint\u001b[39m(\u001b[38;5;124m'\u001b[39m\u001b[38;5;132;01m{}\u001b[39;00m\u001b[38;5;124m Number of reviews has \u001b[39m\u001b[38;5;132;01m{}\u001b[39;00m\u001b[38;5;124m words\u001b[39m\u001b[38;5;124m'\u001b[39m\u001b[38;5;241m.\u001b[39mformat(countVector\u001b[38;5;241m.\u001b[39mshape[\u001b[38;5;241m0\u001b[39m], countVector\u001b[38;5;241m.\u001b[39mshape[\u001b[38;5;241m1\u001b[39m]))\n\u001b[1;32m      5\u001b[0m \u001b[38;5;66;03m#print(countVectorizer.get_feature_names())\u001b[39;00m\n",
      "File \u001b[0;32m/opt/anaconda3/lib/python3.9/site-packages/sklearn/feature_extraction/text.py:1338\u001b[0m, in \u001b[0;36mCountVectorizer.fit_transform\u001b[0;34m(self, raw_documents, y)\u001b[0m\n\u001b[1;32m   1330\u001b[0m             warnings\u001b[38;5;241m.\u001b[39mwarn(\n\u001b[1;32m   1331\u001b[0m                 \u001b[38;5;124m\"\u001b[39m\u001b[38;5;124mUpper case characters found in\u001b[39m\u001b[38;5;124m\"\u001b[39m\n\u001b[1;32m   1332\u001b[0m                 \u001b[38;5;124m\"\u001b[39m\u001b[38;5;124m vocabulary while \u001b[39m\u001b[38;5;124m'\u001b[39m\u001b[38;5;124mlowercase\u001b[39m\u001b[38;5;124m'\u001b[39m\u001b[38;5;124m\"\u001b[39m\n\u001b[1;32m   1333\u001b[0m                 \u001b[38;5;124m\"\u001b[39m\u001b[38;5;124m is True. These entries will not\u001b[39m\u001b[38;5;124m\"\u001b[39m\n\u001b[1;32m   1334\u001b[0m                 \u001b[38;5;124m\"\u001b[39m\u001b[38;5;124m be matched with any documents\u001b[39m\u001b[38;5;124m\"\u001b[39m\n\u001b[1;32m   1335\u001b[0m             )\n\u001b[1;32m   1336\u001b[0m             \u001b[38;5;28;01mbreak\u001b[39;00m\n\u001b[0;32m-> 1338\u001b[0m vocabulary, X \u001b[38;5;241m=\u001b[39m \u001b[38;5;28;43mself\u001b[39;49m\u001b[38;5;241;43m.\u001b[39;49m\u001b[43m_count_vocab\u001b[49m\u001b[43m(\u001b[49m\u001b[43mraw_documents\u001b[49m\u001b[43m,\u001b[49m\u001b[43m \u001b[49m\u001b[38;5;28;43mself\u001b[39;49m\u001b[38;5;241;43m.\u001b[39;49m\u001b[43mfixed_vocabulary_\u001b[49m\u001b[43m)\u001b[49m\n\u001b[1;32m   1340\u001b[0m \u001b[38;5;28;01mif\u001b[39;00m \u001b[38;5;28mself\u001b[39m\u001b[38;5;241m.\u001b[39mbinary:\n\u001b[1;32m   1341\u001b[0m     X\u001b[38;5;241m.\u001b[39mdata\u001b[38;5;241m.\u001b[39mfill(\u001b[38;5;241m1\u001b[39m)\n",
      "File \u001b[0;32m/opt/anaconda3/lib/python3.9/site-packages/sklearn/feature_extraction/text.py:1201\u001b[0m, in \u001b[0;36mCountVectorizer._count_vocab\u001b[0;34m(self, raw_documents, fixed_vocab)\u001b[0m\n\u001b[1;32m   1198\u001b[0m     vocabulary \u001b[38;5;241m=\u001b[39m defaultdict()\n\u001b[1;32m   1199\u001b[0m     vocabulary\u001b[38;5;241m.\u001b[39mdefault_factory \u001b[38;5;241m=\u001b[39m vocabulary\u001b[38;5;241m.\u001b[39m\u001b[38;5;21m__len__\u001b[39m\n\u001b[0;32m-> 1201\u001b[0m analyze \u001b[38;5;241m=\u001b[39m \u001b[38;5;28;43mself\u001b[39;49m\u001b[38;5;241;43m.\u001b[39;49m\u001b[43mbuild_analyzer\u001b[49m\u001b[43m(\u001b[49m\u001b[43m)\u001b[49m\n\u001b[1;32m   1202\u001b[0m j_indices \u001b[38;5;241m=\u001b[39m []\n\u001b[1;32m   1203\u001b[0m indptr \u001b[38;5;241m=\u001b[39m []\n",
      "File \u001b[0;32m/opt/anaconda3/lib/python3.9/site-packages/sklearn/feature_extraction/text.py:436\u001b[0m, in \u001b[0;36m_VectorizerMixin.build_analyzer\u001b[0;34m(self)\u001b[0m\n\u001b[1;32m    432\u001b[0m     \u001b[38;5;28;01mreturn\u001b[39;00m partial(_analyze, analyzer\u001b[38;5;241m=\u001b[39m\u001b[38;5;28mself\u001b[39m\u001b[38;5;241m.\u001b[39manalyzer, decoder\u001b[38;5;241m=\u001b[39m\u001b[38;5;28mself\u001b[39m\u001b[38;5;241m.\u001b[39mdecode)\n\u001b[1;32m    434\u001b[0m preprocess \u001b[38;5;241m=\u001b[39m \u001b[38;5;28mself\u001b[39m\u001b[38;5;241m.\u001b[39mbuild_preprocessor()\n\u001b[0;32m--> 436\u001b[0m \u001b[38;5;28;01mif\u001b[39;00m \u001b[38;5;28mself\u001b[39m\u001b[38;5;241m.\u001b[39manalyzer \u001b[38;5;241m==\u001b[39m \u001b[38;5;124m\"\u001b[39m\u001b[38;5;124mchar\u001b[39m\u001b[38;5;124m\"\u001b[39m:\n\u001b[1;32m    437\u001b[0m     \u001b[38;5;28;01mreturn\u001b[39;00m partial(\n\u001b[1;32m    438\u001b[0m         _analyze,\n\u001b[1;32m    439\u001b[0m         ngrams\u001b[38;5;241m=\u001b[39m\u001b[38;5;28mself\u001b[39m\u001b[38;5;241m.\u001b[39m_char_ngrams,\n\u001b[1;32m    440\u001b[0m         preprocessor\u001b[38;5;241m=\u001b[39mpreprocess,\n\u001b[1;32m    441\u001b[0m         decoder\u001b[38;5;241m=\u001b[39m\u001b[38;5;28mself\u001b[39m\u001b[38;5;241m.\u001b[39mdecode,\n\u001b[1;32m    442\u001b[0m     )\n\u001b[1;32m    444\u001b[0m \u001b[38;5;28;01melif\u001b[39;00m \u001b[38;5;28mself\u001b[39m\u001b[38;5;241m.\u001b[39manalyzer \u001b[38;5;241m==\u001b[39m \u001b[38;5;124m\"\u001b[39m\u001b[38;5;124mchar_wb\u001b[39m\u001b[38;5;124m\"\u001b[39m:\n",
      "File \u001b[0;32m/opt/anaconda3/lib/python3.9/site-packages/pandas/core/generic.py:1527\u001b[0m, in \u001b[0;36mNDFrame.__nonzero__\u001b[0;34m(self)\u001b[0m\n\u001b[1;32m   1525\u001b[0m \u001b[38;5;129m@final\u001b[39m\n\u001b[1;32m   1526\u001b[0m \u001b[38;5;28;01mdef\u001b[39;00m \u001b[38;5;21m__nonzero__\u001b[39m(\u001b[38;5;28mself\u001b[39m) \u001b[38;5;241m-\u001b[39m\u001b[38;5;241m>\u001b[39m NoReturn:\n\u001b[0;32m-> 1527\u001b[0m     \u001b[38;5;28;01mraise\u001b[39;00m \u001b[38;5;167;01mValueError\u001b[39;00m(\n\u001b[1;32m   1528\u001b[0m         \u001b[38;5;124mf\u001b[39m\u001b[38;5;124m\"\u001b[39m\u001b[38;5;124mThe truth value of a \u001b[39m\u001b[38;5;132;01m{\u001b[39;00m\u001b[38;5;28mtype\u001b[39m(\u001b[38;5;28mself\u001b[39m)\u001b[38;5;241m.\u001b[39m\u001b[38;5;18m__name__\u001b[39m\u001b[38;5;132;01m}\u001b[39;00m\u001b[38;5;124m is ambiguous. \u001b[39m\u001b[38;5;124m\"\u001b[39m\n\u001b[1;32m   1529\u001b[0m         \u001b[38;5;124m\"\u001b[39m\u001b[38;5;124mUse a.empty, a.bool(), a.item(), a.any() or a.all().\u001b[39m\u001b[38;5;124m\"\u001b[39m\n\u001b[1;32m   1530\u001b[0m     )\n",
      "\u001b[0;31mValueError\u001b[0m: The truth value of a Series is ambiguous. Use a.empty, a.bool(), a.item(), a.any() or a.all()."
     ]
    }
   ],
   "source": [
    "#Appliyng Countvectorizer\n",
    "countVectorizer = CountVectorizer(analyzer=df_train.message) \n",
    "countVector = countVectorizer.fit_transform(df_train['message'])\n",
    "print('{} Number of reviews has {} words'.format(countVector.shape[0], countVector.shape[1]))\n",
    "#print(countVectorizer.get_feature_names())\n",
    "\n",
    "count_vect_df = pd.DataFrame(countVector.toarray(), columns=countVectorizer.get_feature_names())\n",
    "count_vect_df.head()"
   ]
  },
  {
   "cell_type": "code",
   "execution_count": null,
   "id": "87063fdf",
   "metadata": {},
   "outputs": [],
   "source": []
  },
  {
   "cell_type": "code",
   "execution_count": null,
   "id": "9cfbdcc4",
   "metadata": {},
   "outputs": [],
   "source": []
  },
  {
   "cell_type": "code",
   "execution_count": null,
   "id": "950e6ceb",
   "metadata": {},
   "outputs": [],
   "source": []
  },
  {
   "cell_type": "code",
   "execution_count": null,
   "id": "33fe0b12",
   "metadata": {},
   "outputs": [],
   "source": []
  },
  {
   "cell_type": "code",
   "execution_count": null,
   "id": "73c71323",
   "metadata": {},
   "outputs": [],
   "source": [
    "vectoriser = TfidfVectorizer(ngram_range=(1,2), max_features=500000)\n",
    "vectoriser.fit(X_train)\n",
    "print('No. of feature_words: ', len(vectoriser.get_feature_names()))"
   ]
  },
  {
   "cell_type": "code",
   "execution_count": null,
   "id": "0e048e65",
   "metadata": {},
   "outputs": [],
   "source": [
    "vectoriser = TfidfVectorizer(ngram_range=(1,2), max_features=500000)\n",
    "vectoriser.fit(dx)\n",
    "print('No. of feature_words: ', len(vectoriser.get_feature_names()))"
   ]
  },
  {
   "cell_type": "code",
   "execution_count": null,
   "id": "1e1a60ed",
   "metadata": {},
   "outputs": [],
   "source": [
    "X_train = vectoriser.transform(X_train)\n",
    "X_test  = vectoriser.transform(X_test)"
   ]
  },
  {
   "cell_type": "code",
   "execution_count": null,
   "id": "74ba2ba5",
   "metadata": {},
   "outputs": [],
   "source": [
    "dx = vectoriser.transform(dx)"
   ]
  },
  {
   "cell_type": "code",
   "execution_count": null,
   "id": "61c5c192",
   "metadata": {},
   "outputs": [],
   "source": []
  },
  {
   "cell_type": "markdown",
   "id": "478cec35",
   "metadata": {},
   "source": [
    "**Transforming Dataset using TF-IDF Vectorizer**"
   ]
  },
  {
   "cell_type": "code",
   "execution_count": null,
   "id": "7d549eff",
   "metadata": {},
   "outputs": [],
   "source": [
    "'''vectoriser = TfidfVectorizer(ngram_range=(1,2), max_features=5000000)\n",
    "vectoriser.fit(X_train.apply(lambda x: ' '.join(x)))\n",
    "print('No. of feature_words: ', len(vectoriser.get_feature_names()))'''"
   ]
  },
  {
   "cell_type": "code",
   "execution_count": null,
   "id": "b19736c2",
   "metadata": {},
   "outputs": [],
   "source": [
    "'''X_train = vectoriser.transform(X_train.apply(lambda x: ' '.join(x)))\n",
    "X_test  = vectoriser.transform(X_test.apply(lambda x: ' '.join(x)))'''"
   ]
  },
  {
   "cell_type": "code",
   "execution_count": null,
   "id": "f71be319",
   "metadata": {},
   "outputs": [],
   "source": []
  },
  {
   "cell_type": "code",
   "execution_count": null,
   "id": "1d80973d",
   "metadata": {},
   "outputs": [],
   "source": []
  },
  {
   "cell_type": "markdown",
   "id": "f92ef56b",
   "metadata": {},
   "source": [
    "<a id=\"five\"></a>\n",
    "## 8. Modelling\n",
    "<a class=\"anchor\" id=\"1.1\"></a>\n",
    "<a href=#cont>Back to Table of Contents</a>"
   ]
  },
  {
   "cell_type": "markdown",
   "id": "5b0787fc",
   "metadata": {},
   "source": [
    "Splitting the data into features and labels"
   ]
  },
  {
   "cell_type": "code",
   "execution_count": null,
   "id": "05816f50",
   "metadata": {},
   "outputs": [],
   "source": [
    "# features\n",
    "X=df_train['message']\n",
    "\n",
    "# labels\n",
    "y=df_train['sentiment']"
   ]
  },
  {
   "cell_type": "markdown",
   "id": "d5999e03",
   "metadata": {},
   "source": [
    "Transforming the categorical features (create dummy variables)"
   ]
  },
  {
   "cell_type": "code",
   "execution_count": null,
   "id": "30739120",
   "metadata": {},
   "outputs": [],
   "source": []
  },
  {
   "cell_type": "code",
   "execution_count": null,
   "id": "1186f547",
   "metadata": {},
   "outputs": [],
   "source": []
  },
  {
   "cell_type": "code",
   "execution_count": null,
   "id": "fb5adea4",
   "metadata": {},
   "outputs": [],
   "source": [
    "# Transforming the Features\n",
    "#X_transformed = pd.get_dummies(X, drop_first=True)"
   ]
  },
  {
   "cell_type": "code",
   "execution_count": null,
   "id": "ab1c01cc",
   "metadata": {},
   "outputs": [],
   "source": [
    "X_train, X_test, y_train, y_test = train_test_split(X_transformed, y, test_size=0.2, random_state=42)"
   ]
  },
  {
   "cell_type": "markdown",
   "id": "246962a0",
   "metadata": {},
   "source": [
    "We create an instance of the LogisticRegression() object using the default parameters"
   ]
  },
  {
   "cell_type": "code",
   "execution_count": null,
   "id": "eaab7e06",
   "metadata": {},
   "outputs": [],
   "source": [
    "lr = LogisticRegression()"
   ]
  },
  {
   "cell_type": "markdown",
   "id": "a351046e",
   "metadata": {},
   "source": [
    "The parameters consist of the intercept and the coefficients related to the features.These parameters can be used to predict future claims given the features, so we can extract the parameters."
   ]
  },
  {
   "cell_type": "code",
   "execution_count": null,
   "id": "0c5d4751",
   "metadata": {},
   "outputs": [],
   "source": [
    "lr.fit(X_train, y_train)"
   ]
  },
  {
   "cell_type": "code",
   "execution_count": null,
   "id": "ec22635d",
   "metadata": {},
   "outputs": [],
   "source": [
    "lr.intercept_[0]  "
   ]
  },
  {
   "cell_type": "code",
   "execution_count": null,
   "id": "11a8a87e",
   "metadata": {},
   "outputs": [],
   "source": [
    "coeff_df = pd.DataFrame(lr.coef_.T, X_transformed.columns, columns=['Coefficient'])\n",
    "coeff_df"
   ]
  },
  {
   "cell_type": "markdown",
   "id": "dde586bb",
   "metadata": {},
   "source": [
    "Next we will use the predict method to obtain predictions from our test data observations."
   ]
  },
  {
   "cell_type": "code",
   "execution_count": null,
   "id": "f7a7f3e0",
   "metadata": {},
   "outputs": [],
   "source": [
    "pred_lr = lr.predict(X_test)"
   ]
  },
  {
   "cell_type": "markdown",
   "id": "ad587cbd",
   "metadata": {},
   "source": [
    "<a id=\"six\"></a>\n",
    "## 9. Model Performance\n",
    "<a class=\"anchor\" id=\"1.1\"></a>\n",
    "<a href=#cont>Back to Table of Contents</a>"
   ]
  },
  {
   "cell_type": "code",
   "execution_count": null,
   "id": "9638c475",
   "metadata": {},
   "outputs": [],
   "source": []
  },
  {
   "cell_type": "markdown",
   "id": "3c11a9b9",
   "metadata": {},
   "source": [
    "<a id=\"seven\"></a>\n",
    "## 10. Model Explanations\n",
    "<a class=\"anchor\" id=\"1.1\"></a>\n",
    "<a href=#cont>Back to Table of Contents</a>"
   ]
  },
  {
   "cell_type": "code",
   "execution_count": null,
   "id": "899074ae",
   "metadata": {},
   "outputs": [],
   "source": []
  },
  {
   "cell_type": "markdown",
   "id": "f94feaf9",
   "metadata": {},
   "source": [
    "<a id=\"threefiv\"></a>\n",
    "\n",
    "## 11. Conclusion\n",
    "<a class=\"anchor\" id=\"1.1\"></a>\n",
    "<a href=#cont> Back to Table of Contents </a>"
   ]
  },
  {
   "cell_type": "code",
   "execution_count": null,
   "id": "4a098586",
   "metadata": {},
   "outputs": [],
   "source": []
  },
  {
   "cell_type": "markdown",
   "id": "76c2071d",
   "metadata": {},
   "source": [
    "<a id=\"threefi\"></a>\n",
    "\n",
    "## 12. References\n",
    "<a class=\"anchor\" id=\"1.1\"></a>\n",
    "<a href=#cont> Back to Table of Contents </a>"
   ]
  },
  {
   "cell_type": "markdown",
   "id": "de20a17f",
   "metadata": {},
   "source": [
    "1.https://heartbeat.comet.ml/exploratory-data-analysis-eda-for-categorical-data-870b37a79b65"
   ]
  },
  {
   "cell_type": "markdown",
   "id": "61d8b0d3",
   "metadata": {},
   "source": [
    "2.https://www.kdnuggets.com/2021/03/11-essential-code-blocks-exploratory-data-analysis.html"
   ]
  },
  {
   "cell_type": "markdown",
   "id": "388d84c2",
   "metadata": {},
   "source": [
    " <a id=\"threef\"></a>\n",
    "\n",
    "## 13.  Kaggle Submission\n",
    "<a class=\"anchor\" id=\"1.1\"></a>\n",
    "<a href=#cont> Back to Table of Contents </a>"
   ]
  },
  {
   "cell_type": "code",
   "execution_count": null,
   "id": "6fd22bb9",
   "metadata": {},
   "outputs": [],
   "source": [
    "df_test['sentiment'] = LRmodel.predict(dx)"
   ]
  },
  {
   "cell_type": "code",
   "execution_count": null,
   "id": "48bdd381",
   "metadata": {},
   "outputs": [],
   "source": [
    "load = df_test[['tweetid', 'sentiment']]\n",
    "load.to_csv('sample_submission_climate.csv', index = False)\n",
    "load"
   ]
  },
  {
   "cell_type": "markdown",
   "id": "c29aa28c",
   "metadata": {},
   "source": [
    "<a id=\"threeif\"></a>\n",
    "\n",
    "## 14 Saving the Models\n",
    "<a class=\"anchor\" id=\"1.1\"></a>\n",
    "<a href=#cont> Back to Table of Contents </a>"
   ]
  },
  {
   "cell_type": "code",
   "execution_count": null,
   "id": "02f86a84",
   "metadata": {},
   "outputs": [],
   "source": []
  }
 ],
 "metadata": {
  "kernelspec": {
   "display_name": "Python 3 (ipykernel)",
   "language": "python",
   "name": "python3"
  },
  "language_info": {
   "codemirror_mode": {
    "name": "ipython",
    "version": 3
   },
   "file_extension": ".py",
   "mimetype": "text/x-python",
   "name": "python",
   "nbconvert_exporter": "python",
   "pygments_lexer": "ipython3",
   "version": "3.9.13"
  },
  "toc": {
   "base_numbering": 1,
   "nav_menu": {},
   "number_sections": true,
   "sideBar": true,
   "skip_h1_title": false,
   "title_cell": "Table of Contents",
   "title_sidebar": "Contents",
   "toc_cell": false,
   "toc_position": {},
   "toc_section_display": true,
   "toc_window_display": false
  }
 },
 "nbformat": 4,
 "nbformat_minor": 5
}
